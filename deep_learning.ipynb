{
 "cells": [
  {
   "cell_type": "markdown",
   "metadata": {},
   "source": [
    "# Постройте модель для классификации FashionMNIST. Попробуйте получить качество на тестовой выборке не ниже 88%"
   ]
  },
  {
   "cell_type": "markdown",
   "metadata": {},
   "source": [
    "import libraries"
   ]
  },
  {
   "cell_type": "code",
   "execution_count": 20,
   "metadata": {},
   "outputs": [],
   "source": [
    "import matplotlib.pyplot as plt\n",
    "%matplotlib inline\n",
    "\n",
    "import numpy as np\n",
    "\n",
    "import torch\n",
    "\n",
    "import torchvision as tv\n",
    "import time"
   ]
  },
  {
   "cell_type": "markdown",
   "metadata": {},
   "source": [
    "params"
   ]
  },
  {
   "cell_type": "code",
   "execution_count": 21,
   "metadata": {},
   "outputs": [],
   "source": [
    "BATCH_SIZE=256"
   ]
  },
  {
   "cell_type": "markdown",
   "metadata": {},
   "source": [
    "load data"
   ]
  },
  {
   "cell_type": "code",
   "execution_count": 22,
   "metadata": {},
   "outputs": [],
   "source": [
    "train_dataset = tv.datasets.FashionMNIST('.', train=True, transform=tv.transforms.ToTensor(), download=True)\n",
    "test_dataset = tv.datasets.FashionMNIST('.', train=False, transform=tv.transforms.ToTensor(), download=True)\n",
    "train = torch.utils.data.DataLoader(train_dataset, batch_size=BATCH_SIZE)\n",
    "test = torch.utils.data.DataLoader(test_dataset, batch_size=BATCH_SIZE)"
   ]
  },
  {
   "cell_type": "code",
   "execution_count": 23,
   "metadata": {},
   "outputs": [
    {
     "data": {
      "text/plain": [
       "<matplotlib.image.AxesImage at 0x185461ca220>"
      ]
     },
     "execution_count": 23,
     "metadata": {},
     "output_type": "execute_result"
    },
    {
     "data": {
      "image/png": "[encoded data removed]",
      "text/plain": [
       "<Figure size 432x288 with 1 Axes>"
      ]
     },
     "metadata": {
      "needs_background": "light"
     },
     "output_type": "display_data"
    }
   ],
   "source": [
    "plt.imshow(train_dataset[0][0].numpy().reshape(28,28), cmap='gray')"
   ]
  },
  {
   "cell_type": "markdown",
   "metadata": {},
   "source": [
    "Model"
   ]
  },
  {
   "cell_type": "code",
   "execution_count": 24,
   "metadata": {},
   "outputs": [],
   "source": [
    "model = torch.nn.Sequential(\n",
    "    torch.nn.Flatten(),\n",
    "    torch.nn.Linear(784, 384),\n",
    "    torch.nn.BatchNorm1d(384),\n",
    "    torch.nn.ReLU(),\n",
    "    torch.nn.BatchNorm1d(384),\n",
    "    torch.nn.Linear(384, 256),\n",
    "    torch.nn.BatchNorm1d(256),\n",
    "    torch.nn.ReLU(),\n",
    "    torch.nn.BatchNorm1d(256),\n",
    "    torch.nn.Linear(256, 10),\n",
    "    torch.nn.LogSoftmax(dim=1)\n",
    ")"
   ]
  },
  {
   "cell_type": "code",
   "execution_count": 25,
   "metadata": {},
   "outputs": [],
   "source": [
    "loss = torch.nn.CrossEntropyLoss()\n",
    "trainer = torch.optim.Adam(model.parameters(), eps=1e-08, lr=0.001)\n",
    "num_epochs = 20"
   ]
  },
  {
   "cell_type": "code",
   "execution_count": 26,
   "metadata": {},
   "outputs": [
    {
     "name": "stdout",
     "output_type": "stream",
     "text": [
      "ep: 0, train_loss: 0.4289362969550681, train_acc: 0.8457, test_loss: 0.38210840076208114, test_acc: 0.8644\n",
      "ep: 1, train_loss: 0.3162091678761421, train_acc: 0.8832833333333333, test_loss: 0.35354749448597433, test_acc: 0.8746\n",
      "ep: 2, train_loss: 0.2748858131626819, train_acc: 0.8990833333333333, test_loss: 0.3438053146004677, test_acc: 0.8755\n",
      "ep: 3, train_loss: 0.2451611061679556, train_acc: 0.9097333333333333, test_loss: 0.34612213633954525, test_acc: 0.8768\n",
      "ep: 4, train_loss: 0.2213530848635004, train_acc: 0.9189333333333334, test_loss: 0.3438006989657879, test_acc: 0.8799\n",
      "ep: 5, train_loss: 0.20120657473168474, train_acc: 0.9255, test_loss: 0.3391278598457575, test_acc: 0.8857\n",
      "ep: 6, train_loss: 0.18107448743378862, train_acc: 0.9334333333333333, test_loss: 0.34218670763075354, test_acc: 0.887\n",
      "ep: 7, train_loss: 0.16388326265076372, train_acc: 0.94065, test_loss: 0.35062150517478585, test_acc: 0.8864\n",
      "ep: 8, train_loss: 0.15129439684938878, train_acc: 0.9449333333333333, test_loss: 0.36285193599760535, test_acc: 0.8855\n",
      "ep: 9, train_loss: 0.1352197711455061, train_acc: 0.9507666666666666, test_loss: 0.3802383481990546, test_acc: 0.8856\n",
      "ep: 10, train_loss: 0.12421384322199415, train_acc: 0.95475, test_loss: 0.3905664168763906, test_acc: 0.8833\n",
      "ep: 11, train_loss: 0.1146734115766718, train_acc: 0.9581333333333333, test_loss: 0.4313827143982053, test_acc: 0.8816\n",
      "ep: 12, train_loss: 0.10650097084172229, train_acc: 0.9603, test_loss: 0.45719445273280146, test_acc: 0.8775\n",
      "ep: 13, train_loss: 0.10000829216330609, train_acc: 0.9641666666666666, test_loss: 0.45877684876322744, test_acc: 0.8775\n",
      "ep: 14, train_loss: 0.09327919976983932, train_acc: 0.9663333333333334, test_loss: 0.45036374442279337, test_acc: 0.8851\n",
      "ep: 15, train_loss: 0.08853848475883616, train_acc: 0.9673, test_loss: 0.4496115319430828, test_acc: 0.8828\n",
      "ep: 16, train_loss: 0.08033175641234885, train_acc: 0.9707833333333333, test_loss: 0.4541581048164517, test_acc: 0.8861\n",
      "ep: 17, train_loss: 0.07232848073732345, train_acc: 0.97365, test_loss: 0.4722620718181133, test_acc: 0.8885\n",
      "ep: 18, train_loss: 0.07016307092568976, train_acc: 0.97415, test_loss: 0.4932796563953161, test_acc: 0.889\n",
      "ep: 19, train_loss: 0.06505364643290956, train_acc: 0.9759666666666666, test_loss: 0.49698630422353746, test_acc: 0.8887\n"
     ]
    }
   ],
   "source": [
    "for ep in range(num_epochs):\n",
    "    train_iters, train_passed  = 0, 0\n",
    "    train_loss, train_acc = 0., 0.\n",
    "    \n",
    "    for X, y in train:\n",
    "        \n",
    "        trainer.zero_grad()\n",
    "        y_pred = model(X)\n",
    "        l = loss(y_pred, y)\n",
    "        l.backward()\n",
    "        trainer.step()\n",
    "        train_loss += l.item()\n",
    "        train_acc += (y_pred.argmax(dim=1) == y).sum().item()\n",
    "        train_iters += 1\n",
    "        train_passed += len(X)\n",
    "    \n",
    "    test_iters, test_passed  = 0, 0\n",
    "    test_loss, test_acc = 0., 0.\n",
    "    for X, y in test:\n",
    "        y_pred = model(X)\n",
    "        l = loss(y_pred, y)\n",
    "        test_loss += l.item()\n",
    "        test_acc += (y_pred.argmax(dim=1) == y).sum().item()\n",
    "        test_iters += 1\n",
    "        test_passed += len(X)\n",
    "        \n",
    "    print(\"ep: {}, train_loss: {}, train_acc: {}, test_loss: {}, test_acc: {}\".format(\n",
    "        ep, train_loss / train_iters, train_acc / train_passed,\n",
    "        test_loss / test_iters, test_acc / test_passed)\n",
    "    )"
   ]
  },
  {
   "cell_type": "markdown",
   "metadata": {},
   "source": [
    "эксперименты"
   ]
  },
  {
   "cell_type": "code",
   "execution_count": 27,
   "metadata": {},
   "outputs": [],
   "source": [
    "model_2 = torch.nn.Sequential(\n",
    "    torch.nn.Flatten(),\n",
    "    torch.nn.Linear(784, 1568),\n",
    "    torch.nn.BatchNorm1d(1568),\n",
    "    torch.nn.ReLU(),\n",
    "    torch.nn.BatchNorm1d(1568),\n",
    "    torch.nn.Linear(1568, 512),\n",
    "    torch.nn.BatchNorm1d(512),\n",
    "    torch.nn.ReLU(),\n",
    "    torch.nn.BatchNorm1d(512),\n",
    "    torch.nn.Linear(512, 10),\n",
    "    torch.nn.LogSoftmax(dim=1)\n",
    ")"
   ]
  },
  {
   "cell_type": "code",
   "execution_count": 28,
   "metadata": {},
   "outputs": [],
   "source": [
    "loss = torch.nn.CrossEntropyLoss()\n",
    "trainer = torch.optim.Adam(model_2.parameters(), eps=1e-08, lr=0.001)\n",
    "num_epochs = 20"
   ]
  },
  {
   "cell_type": "code",
   "execution_count": 29,
   "metadata": {},
   "outputs": [
    {
     "name": "stdout",
     "output_type": "stream",
     "text": [
      "ep: 0, train_loss: 0.4233456721965303, train_acc: 0.8448666666666667, test_loss: 0.3789800897240639, test_acc: 0.8642\n",
      "ep: 1, train_loss: 0.31592407328017214, train_acc: 0.8827166666666667, test_loss: 0.3598223298788071, test_acc: 0.8719\n",
      "ep: 2, train_loss: 0.2733970519076002, train_acc: 0.8982833333333333, test_loss: 0.3551431104540825, test_acc: 0.8735\n",
      "ep: 3, train_loss: 0.24177077786719545, train_acc: 0.9101333333333333, test_loss: 0.3597717955708504, test_acc: 0.8753\n",
      "ep: 4, train_loss: 0.21676141068022303, train_acc: 0.9196166666666666, test_loss: 0.36301939003169537, test_acc: 0.8782\n",
      "ep: 5, train_loss: 0.19387590295456825, train_acc: 0.9290666666666667, test_loss: 0.35957758538424966, test_acc: 0.8819\n",
      "ep: 6, train_loss: 0.1770830457514905, train_acc: 0.9342, test_loss: 0.36902467869222166, test_acc: 0.8816\n",
      "ep: 7, train_loss: 0.16598668535973163, train_acc: 0.9392666666666667, test_loss: 0.378790102340281, test_acc: 0.8808\n",
      "ep: 8, train_loss: 0.14725501083947243, train_acc: 0.9464, test_loss: 0.41184566244482995, test_acc: 0.879\n",
      "ep: 9, train_loss: 0.1337913782831202, train_acc: 0.9501833333333334, test_loss: 0.4056435340084136, test_acc: 0.88\n",
      "ep: 10, train_loss: 0.12145102987898157, train_acc: 0.9552666666666667, test_loss: 0.41436013486236334, test_acc: 0.8828\n",
      "ep: 11, train_loss: 0.11182990126470302, train_acc: 0.95855, test_loss: 0.41368323639035226, test_acc: 0.8852\n",
      "ep: 12, train_loss: 0.10418545427791616, train_acc: 0.9613333333333334, test_loss: 0.45141981085762384, test_acc: 0.8799\n",
      "ep: 13, train_loss: 0.09363209664663102, train_acc: 0.9651666666666666, test_loss: 0.4492038953001611, test_acc: 0.8858\n",
      "ep: 14, train_loss: 0.08482116353004537, train_acc: 0.9682666666666667, test_loss: 0.4537087780190632, test_acc: 0.885\n",
      "ep: 15, train_loss: 0.08207030701351926, train_acc: 0.96895, test_loss: 0.492329392573447, test_acc: 0.8817\n",
      "ep: 16, train_loss: 0.07772227464679708, train_acc: 0.9702, test_loss: 0.4885660473722965, test_acc: 0.8856\n",
      "ep: 17, train_loss: 0.07245075755772439, train_acc: 0.97295, test_loss: 0.49359194058924916, test_acc: 0.8866\n",
      "ep: 18, train_loss: 0.06727993471666853, train_acc: 0.97485, test_loss: 0.516786715015769, test_acc: 0.885\n",
      "ep: 19, train_loss: 0.06324424550254294, train_acc: 0.9767166666666667, test_loss: 0.5426732824416831, test_acc: 0.8855\n"
     ]
    }
   ],
   "source": [
    "for ep in range(num_epochs):\n",
    "    train_iters, train_passed  = 0, 0\n",
    "    train_loss, train_acc = 0., 0.\n",
    "    \n",
    "    for X, y in train:\n",
    "        \n",
    "        trainer.zero_grad()\n",
    "        y_pred = model_2(X)\n",
    "        l = loss(y_pred, y)\n",
    "        l.backward()\n",
    "        trainer.step()\n",
    "        train_loss += l.item()\n",
    "        train_acc += (y_pred.argmax(dim=1) == y).sum().item()\n",
    "        train_iters += 1\n",
    "        train_passed += len(X)\n",
    "    \n",
    "    test_iters, test_passed  = 0, 0\n",
    "    test_loss, test_acc = 0., 0.\n",
    "    for X, y in test:\n",
    "        y_pred = model_2(X)\n",
    "        l = loss(y_pred, y)\n",
    "        test_loss += l.item()\n",
    "        test_acc += (y_pred.argmax(dim=1) == y).sum().item()\n",
    "        test_iters += 1\n",
    "        test_passed += len(X)\n",
    "        \n",
    "    print(\"ep: {}, train_loss: {}, train_acc: {}, test_loss: {}, test_acc: {}\".format(\n",
    "        ep, train_loss / train_iters, train_acc / train_passed,\n",
    "        test_loss / test_iters, test_acc / test_passed)\n",
    "    )"
   ]
  }
 ],
 "metadata": {
  "kernelspec": {
   "display_name": "Python 3",
   "language": "python",
   "name": "python3"
  },
  "language_info": {
   "codemirror_mode": {
    "name": "ipython",
    "version": 3
   },
   "file_extension": ".py",
   "mimetype": "text/x-python",
   "name": "python",
   "nbconvert_exporter": "python",
   "pygments_lexer": "ipython3",
   "version": "3.8.3"
  }
 },
 "nbformat": 4,
 "nbformat_minor": 4
}
